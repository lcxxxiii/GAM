{
 "cells": [
  {
   "cell_type": "code",
   "execution_count": 1,
   "source": [
    "import argparse\r\n",
    "import cv2\r\n",
    "import numpy as np\r\n",
    "import torch\r\n",
    "from torchvision import models\r\n",
    "from torchvision import transforms\r\n",
    "from vit_model import vit_large_patch32_224_in21k as create_model\r\n",
    "from pytorch_grad_cam import GradCAM, \\\r\n",
    "                             ScoreCAM, \\\r\n",
    "                             GradCAMPlusPlus, \\\r\n",
    "                             AblationCAM, \\\r\n",
    "                             XGradCAM, \\\r\n",
    "                             EigenCAM, \\\r\n",
    "                             EigenGradCAM\r\n",
    "\r\n",
    "from pytorch_grad_cam import GuidedBackpropReLUModel\r\n",
    "from pytorch_grad_cam.utils.image import show_cam_on_image, \\\r\n",
    "                                         deprocess_image, \\\r\n",
    "                                         preprocess_image\r\n",
    "\r\n",
    "\r\n",
    "def get_args():\r\n",
    "    parser = argparse.ArgumentParser()\r\n",
    "    parser.add_argument('--use-cuda', action='store_true', default=True,\r\n",
    "                        help='Use NVIDIA GPU acceleration')\r\n",
    "    parser.add_argument('--image-path', type=str, default='heavy_test_138.jpg',\r\n",
    "                        help='Input image path')\r\n",
    "    parser.add_argument('--aug_smooth', action='store_true',\r\n",
    "                        help='Apply test time augmentation to smooth the CAM')\r\n",
    "    parser.add_argument('--eigen_smooth', action='store_true',\r\n",
    "                        help='Reduce noise by taking the first principle componenet'\r\n",
    "                        'of cam_weights*activations')\r\n",
    "\r\n",
    "    parser.add_argument('--method', type=str, default='gradcam++',\r\n",
    "                        help='Can be gradcam/gradcam++/scorecam/xgradcam/ablationcam')\r\n",
    "\r\n",
    "    args = parser.parse_args()\r\n",
    "    args.use_cuda = args.use_cuda and torch.cuda.is_available()\r\n",
    "    if args.use_cuda:\r\n",
    "        print('Using GPU for acceleration')\r\n",
    "    else:\r\n",
    "        print('Using CPU for computation')\r\n",
    "\r\n",
    "    return args\r\n",
    "    \r\n"
   ],
   "outputs": [],
   "metadata": {}
  },
  {
   "cell_type": "code",
   "execution_count": 3,
   "source": [
    "if __name__ == '__main__':\r\n",
    "    device = torch.device(\"cuda:0\" if torch.cuda.is_available() else \"cpu\")\r\n",
    "    args = get_args()\r\n",
    "    \r\n",
    "    \r\n",
    "    \r\n",
    "    \r\n",
    "    \r\n",
    "    rgb_img = cv2.imread(args.image_path, 1)[:, :, ::-1]\r\n",
    "    rgb_img = cv2.resize(rgb_img, (224, 224))\r\n",
    "    rgb_img = np.float32(rgb_img) / 255\r\n",
    "    input_tensor = preprocess_image(rgb_img, mean=[0.5, 0.5, 0.5], \r\n",
    "                                             std=[0.5, 0.5, 0.5])"
   ],
   "outputs": [
    {
     "output_type": "stream",
     "name": "stderr",
     "text": [
      "usage: ipykernel_launcher.py [-h] [--use-cuda] [--image-path IMAGE_PATH]\n",
      "                             [--aug_smooth] [--eigen_smooth] [--method METHOD]\n",
      "ipykernel_launcher.py: error: unrecognized arguments: --ip=127.0.0.1 --stdin=9003 --control=9001 --hb=9000 --Session.signature_scheme=\"hmac-sha256\" --Session.key=b\"6ed91098-1a9f-4d85-830d-8a474b1c335e\" --shell=9002 --transport=\"tcp\" --iopub=9004 --f=C:\\Users\\lcx\\AppData\\Local\\Temp\\tmp-27964Fj5Vi29vaG0.json\n"
     ]
    },
    {
     "output_type": "error",
     "ename": "SystemExit",
     "evalue": "2",
     "traceback": [
      "An exception has occurred, use %tb to see the full traceback.\n",
      "\u001b[1;31mSystemExit\u001b[0m\u001b[1;31m:\u001b[0m 2\n"
     ]
    },
    {
     "output_type": "stream",
     "name": "stderr",
     "text": [
      "D:\\Miniconda3\\envs\\pytorch\\lib\\site-packages\\IPython\\core\\interactiveshell.py:3449: UserWarning: To exit: use 'exit', 'quit', or Ctrl-D.\n",
      "  warn(\"To exit: use 'exit', 'quit', or Ctrl-D.\", stacklevel=1)\n"
     ]
    }
   ],
   "metadata": {}
  }
 ],
 "metadata": {
  "orig_nbformat": 4,
  "language_info": {
   "name": "python"
  }
 },
 "nbformat": 4,
 "nbformat_minor": 2
}