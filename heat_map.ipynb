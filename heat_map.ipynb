{
 "cells": [
  {
   "cell_type": "code",
   "execution_count": 1,
   "metadata": {},
   "outputs": [],
   "source": [
    "import argparse\n",
    "import cv2\n",
    "import numpy as np\n",
    "import torch\n",
    "from torch._C import _get_warnAlways\n",
    "from torchvision import models\n",
    "from torchvision import transforms\n",
    "from torchvision.transforms import Compose, Normalize, ToTensor\n",
    "\n",
    "def preprocess_image(img: np.ndarray, mean=None, std=None) -> torch.Tensor:\n",
    "    if std is None:\n",
    "        std = [0.5, 0.5, 0.5]\n",
    "    if mean is None:\n",
    "        mean = [0.5, 0.5, 0.5]\n",
    "\n",
    "    preprocessing = Compose([\n",
    "        ToTensor(),\n",
    "        Normalize(mean=mean, std=std)\n",
    "    ])\n",
    "\n",
    "    return preprocessing(img.copy()).unsqueeze(0)\n",
    "\n",
    "def show_cam_on_image(img: np.ndarray,\n",
    "                      mask: np.ndarray,\n",
    "                      use_rgb: bool = False,\n",
    "                      colormap: int = cv2.COLORMAP_JET) -> np.ndarray:\n",
    "    \"\"\" This function overlays the cam mask on the image as an heatmap.\n",
    "    By default the heatmap is in BGR format.\n",
    "\n",
    "    :param img: The base image in RGB or BGR format. 背景图像\n",
    "    :param mask: The cam mask. cam掩码图像\n",
    "    :param use_rgb: Whether to use an RGB or BGR heatmap, this should be set to True if 'img' is in RGB format.  是否使用rgb色彩图\n",
    "    :param colormap: The OpenCV colormap to be used.\n",
    "    :returns: The default image with the cam overlay.\n",
    "    \"\"\"\n",
    "    heatmap = cv2.applyColorMap(np.uint8(255 * mask), colormap)\n",
    "    if use_rgb:\n",
    "        heatmap = cv2.cvtColor(heatmap, cv2.COLOR_BGR2RGB)        #颜色空间转换，BGR-RGB\n",
    "    heatmap = np.float32(heatmap) / 255\n",
    "\n",
    "    if np.max(img) > 1:\n",
    "        raise Exception(\"The input image should np.float32 in the range [0, 1]\")\n",
    "\n",
    "    cam = heatmap + img\n",
    "    cam = cam / np.max(cam)\n",
    "    return np.uint8(255 * cam)    \n"
   ]
  },
  {
   "cell_type": "code",
   "execution_count": 2,
   "metadata": {},
   "outputs": [],
   "source": [
    "def show_cam_on_image(img: np.ndarray,\n",
    "                      mask: np.ndarray,\n",
    "                      use_rgb: bool = False,\n",
    "                      colormap: int = cv2.COLORMAP_JET) -> np.ndarray:\n",
    "    \"\"\" This function overlays the cam mask on the image as an heatmap.\n",
    "    By default the heatmap is in BGR format.\n",
    "\n",
    "    :param img: The base image in RGB or BGR format. 背景图像\n",
    "    :param mask: The cam mask. cam掩码图像\n",
    "    :param use_rgb: Whether to use an RGB or BGR heatmap, this should be set to True if 'img' is in RGB format.  是否使用rgb色彩图\n",
    "    :param colormap: The OpenCV colormap to be used.\n",
    "    :returns: The default image with the cam overlay.\n",
    "    \"\"\"\n",
    "    heatmap = cv2.applyColorMap(np.uint8(255 * mask), colormap)\n",
    "    if use_rgb:\n",
    "        heatmap = cv2.cvtColor(heatmap, cv2.COLOR_BGR2RGB)        #颜色空间转换，BGR-RGB\n",
    "    heatmap = np.float32(heatmap) / 255\n",
    "\n",
    "    if np.max(img) > 1:\n",
    "        raise Exception(\"The input image should np.float32 in the range [0, 1]\")\n",
    "\n",
    "    cam = heatmap + img\n",
    "    cam = cam / np.max(cam)\n",
    "    return np.uint8(255 * cam)"
   ]
  },
  {
   "cell_type": "code",
   "execution_count": 3,
   "metadata": {},
   "outputs": [
    {
     "data": {
      "text/plain": [
       "True"
      ]
     },
     "execution_count": 3,
     "metadata": {},
     "output_type": "execute_result"
    }
   ],
   "source": [
    "grayscale_cam = cv2.imread('h1.png')\n",
    "grayscale_cam = cv2.resize(grayscale_cam, (224, 224))\n",
    "grayscale_cam = np.float32(grayscale_cam) / 255\n",
    "\n",
    "pic_path = 'dataset\\light_ 1350.jpg'\n",
    "rgb_img = cv2.imread(pic_path)\n",
    "rgb_img = cv2.resize(rgb_img, (224, 224))\n",
    "rgb_img = np.float32(rgb_img) / 255\n",
    "# rgb_img = preprocess_image(rgb_img, mean=[0.5, 0.5, 0.5], \n",
    "#                                     std=[0.5, 0.5, 0.5])\n",
    "\n",
    "# heatmap = cv2.applyColorMap(np.uint8(255 * grayscale_cam), colormap = cv2.COLORMAP_JET)\n",
    "# heatmap = np.float32(heatmap) / 255\n",
    "\n",
    "\n",
    "cam_image = show_cam_on_image(rgb_img, grayscale_cam)\n",
    "# cv2.imshow('1',cam_image)\n",
    "# cv2.waitKey(0)\n",
    "cv2.imwrite('pic2_cam.jpg', cam_image)"
   ]
  }
 ],
 "metadata": {
  "interpreter": {
   "hash": "c2c0bba31bef276960c92166e4dc324d20d321691368e020af08fea8957d0a65"
  },
  "kernelspec": {
   "display_name": "Python 3.8.10 64-bit ('pytorch': conda)",
   "name": "python3"
  },
  "language_info": {
   "codemirror_mode": {
    "name": "ipython",
    "version": 3
   },
   "file_extension": ".py",
   "mimetype": "text/x-python",
   "name": "python",
   "nbconvert_exporter": "python",
   "pygments_lexer": "ipython3",
   "version": "3.8.10"
  },
  "orig_nbformat": 4
 },
 "nbformat": 4,
 "nbformat_minor": 2
}
